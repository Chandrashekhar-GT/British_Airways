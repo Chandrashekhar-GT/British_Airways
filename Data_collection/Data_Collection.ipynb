{
 "cells": [
  {
   "cell_type": "code",
   "execution_count": 3,
   "id": "8d78f2fc",
   "metadata": {},
   "outputs": [],
   "source": [
    "import pandas as pd\n",
    "import numpy as np\n",
    "import requests\n",
    "from bs4 import BeautifulSoup"
   ]
  },
  {
   "cell_type": "code",
   "execution_count": 29,
   "id": "e71ccbca",
   "metadata": {},
   "outputs": [],
   "source": [
    "  #create an empty list to collect all reviews\n",
    "reviews  = []\n",
    "\n",
    "#create an empty list to collect rating stars\n",
    "stars = []\n",
    "\n",
    "#create an empty list to collect date\n",
    "date = []\n",
    "\n",
    "#create an empty list to collect country the reviewer is from\n",
    "country = []"
   ]
  },
  {
   "cell_type": "code",
   "execution_count": 30,
   "id": "bd58f19c",
   "metadata": {
    "scrolled": true
   },
   "outputs": [
    {
     "name": "stdout",
     "output_type": "stream",
     "text": [
      "Error on page 30\n",
      "Error on page 31\n",
      "Error on page 31\n",
      "Error on page 34\n",
      "Error on page 34\n"
     ]
    }
   ],
   "source": [
    "for i in range(1, 36):\n",
    "    page = requests.get(f\"https://www.airlinequality.com/airline-reviews/british-airways/page/{i}/?sortby=post_date%3ADesc&pagesize=100\")\n",
    "    \n",
    "    soup = BeautifulSoup(page.content, \"html.parser\")\n",
    "    \n",
    "    for item in soup.find_all(\"div\", class_=\"text_content\"):\n",
    "        reviews.append(item.text)\n",
    "    \n",
    "    for item in soup.find_all(\"div\", class_ = \"rating-10\"):\n",
    "        try:\n",
    "            stars.append(item.span.text)\n",
    "        except:\n",
    "            print(f\"Error on page {i}\")\n",
    "            stars.append(\"None\")\n",
    "            \n",
    "    #date\n",
    "    for item in soup.find_all(\"time\"):\n",
    "        date.append(item.text)\n",
    "        \n",
    "    #country\n",
    "    for item in soup.find_all(\"h3\"):\n",
    "        country.append(item.span.next_sibling.text.strip(\" ()\"))"
   ]
  },
  {
   "cell_type": "code",
   "execution_count": 31,
   "id": "203447c6",
   "metadata": {},
   "outputs": [
    {
     "data": {
      "text/plain": [
       "3500"
      ]
     },
     "execution_count": 31,
     "metadata": {},
     "output_type": "execute_result"
    }
   ],
   "source": [
    "#check the length of total reviews extracted\n",
    "len(reviews)"
   ]
  },
  {
   "cell_type": "code",
   "execution_count": 32,
   "id": "762d2df1",
   "metadata": {},
   "outputs": [
    {
     "data": {
      "text/plain": [
       "3500"
      ]
     },
     "execution_count": 32,
     "metadata": {},
     "output_type": "execute_result"
    }
   ],
   "source": [
    "len(country)"
   ]
  },
  {
   "cell_type": "code",
   "execution_count": 33,
   "id": "ecb18fb9",
   "metadata": {},
   "outputs": [
    {
     "data": {
      "text/plain": [
       "3500"
      ]
     },
     "execution_count": 33,
     "metadata": {},
     "output_type": "execute_result"
    }
   ],
   "source": [
    "len(date)"
   ]
  },
  {
   "cell_type": "code",
   "execution_count": 34,
   "id": "69b6473b",
   "metadata": {},
   "outputs": [],
   "source": [
    "#check the length \n",
    "stars = stars[:3500]"
   ]
  },
  {
   "cell_type": "code",
   "execution_count": 35,
   "id": "a0d8de30",
   "metadata": {},
   "outputs": [],
   "source": [
    "df2 = pd.DataFrame({\"reviews\":reviews,\"stars\": stars, \"date\":date, \"country\": country})"
   ]
  },
  {
   "cell_type": "code",
   "execution_count": 36,
   "id": "4cccf868",
   "metadata": {},
   "outputs": [
    {
     "data": {
      "text/html": [
       "<div>\n",
       "<style scoped>\n",
       "    .dataframe tbody tr th:only-of-type {\n",
       "        vertical-align: middle;\n",
       "    }\n",
       "\n",
       "    .dataframe tbody tr th {\n",
       "        vertical-align: top;\n",
       "    }\n",
       "\n",
       "    .dataframe thead th {\n",
       "        text-align: right;\n",
       "    }\n",
       "</style>\n",
       "<table border=\"1\" class=\"dataframe\">\n",
       "  <thead>\n",
       "    <tr style=\"text-align: right;\">\n",
       "      <th></th>\n",
       "      <th>reviews</th>\n",
       "      <th>stars</th>\n",
       "      <th>date</th>\n",
       "      <th>country</th>\n",
       "    </tr>\n",
       "  </thead>\n",
       "  <tbody>\n",
       "    <tr>\n",
       "      <th>0</th>\n",
       "      <td>✅ Trip Verified |  I will never fly British Ai...</td>\n",
       "      <td>\\n\\t\\t\\t\\t\\t\\t\\t\\t\\t\\t\\t\\t\\t5</td>\n",
       "      <td>13th April 2023</td>\n",
       "      <td>United States</td>\n",
       "    </tr>\n",
       "    <tr>\n",
       "      <th>1</th>\n",
       "      <td>✅ Trip Verified |  Worst aircraft I have ever ...</td>\n",
       "      <td>2</td>\n",
       "      <td>12th April 2023</td>\n",
       "      <td>United Kingdom</td>\n",
       "    </tr>\n",
       "    <tr>\n",
       "      <th>2</th>\n",
       "      <td>✅ Trip Verified |  I enjoyed my flight. The bo...</td>\n",
       "      <td>1</td>\n",
       "      <td>11th April 2023</td>\n",
       "      <td>United Kingdom</td>\n",
       "    </tr>\n",
       "    <tr>\n",
       "      <th>3</th>\n",
       "      <td>✅ Trip Verified | Why do you make it so hard? ...</td>\n",
       "      <td>9</td>\n",
       "      <td>10th April 2023</td>\n",
       "      <td>United Kingdom</td>\n",
       "    </tr>\n",
       "    <tr>\n",
       "      <th>4</th>\n",
       "      <td>✅ Trip Verified |  After several delays and ca...</td>\n",
       "      <td>5</td>\n",
       "      <td>9th April 2023</td>\n",
       "      <td>United States</td>\n",
       "    </tr>\n",
       "  </tbody>\n",
       "</table>\n",
       "</div>"
      ],
      "text/plain": [
       "                                             reviews  \\\n",
       "0  ✅ Trip Verified |  I will never fly British Ai...   \n",
       "1  ✅ Trip Verified |  Worst aircraft I have ever ...   \n",
       "2  ✅ Trip Verified |  I enjoyed my flight. The bo...   \n",
       "3  ✅ Trip Verified | Why do you make it so hard? ...   \n",
       "4  ✅ Trip Verified |  After several delays and ca...   \n",
       "\n",
       "                           stars             date         country  \n",
       "0  \\n\\t\\t\\t\\t\\t\\t\\t\\t\\t\\t\\t\\t\\t5  13th April 2023   United States  \n",
       "1                              2  12th April 2023  United Kingdom  \n",
       "2                              1  11th April 2023  United Kingdom  \n",
       "3                              9  10th April 2023  United Kingdom  \n",
       "4                              5   9th April 2023   United States  "
      ]
     },
     "execution_count": 36,
     "metadata": {},
     "output_type": "execute_result"
    }
   ],
   "source": [
    "df2.head()"
   ]
  },
  {
   "cell_type": "code",
   "execution_count": 37,
   "id": "0e8d52f4",
   "metadata": {},
   "outputs": [],
   "source": [
    "df2.to_csv('British_airways.csv')"
   ]
  }
 ],
 "metadata": {
  "kernelspec": {
   "display_name": "Python 3 (ipykernel)",
   "language": "python",
   "name": "python3"
  },
  "language_info": {
   "codemirror_mode": {
    "name": "ipython",
    "version": 3
   },
   "file_extension": ".py",
   "mimetype": "text/x-python",
   "name": "python",
   "nbconvert_exporter": "python",
   "pygments_lexer": "ipython3",
   "version": "3.9.12"
  }
 },
 "nbformat": 4,
 "nbformat_minor": 5
}
